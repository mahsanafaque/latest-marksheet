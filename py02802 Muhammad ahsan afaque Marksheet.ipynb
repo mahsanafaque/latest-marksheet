{
 "cells": [
  {
   "cell_type": "code",
   "execution_count": 2,
   "metadata": {},
   "outputs": [
    {
     "name": "stdout",
     "output_type": "stream",
     "text": [
      "***Muhammad Ahsan Afaque PY02802 Marksheet***\n",
      "Enter your marks of English out of 100 = 80\n",
      "Enter your marks of Urdu out of 100 = 70\n",
      "Enter your marks of Chemistry out of 100 = 60\n",
      "Enter your marks of Physics out of 100 = 50\n",
      "Enter your marks of Maths out of 100 = 40\n",
      "Enter your marks of Pakistan Studies out of 100 = 75\n",
      "Enter your marks of Islamiat out of 100 = 62\n",
      "Your Total Marks are 437\n",
      "Your Percentage is 62.42857142857143\n",
      "Congratulations You have secured Grade D\n"
     ]
    }
   ],
   "source": [
    "print(\"***Muhammad Ahsan Afaque PY02802 Marksheet***\")\n",
    "English= int(input(\"Enter your marks of English out of 100 = \"))\n",
    "Urdu= int(input(\"Enter your marks of Urdu out of 100 = \"))\n",
    "Chemistry= int(input(\"Enter your marks of Chemistry out of 100 = \"))\n",
    "Physics= int(input(\"Enter your marks of Physics out of 100 = \"))\n",
    "Maths= int(input(\"Enter your marks of Maths out of 100 = \"))\n",
    "Pakistan_Studies= int(input(\"Enter your marks of Pakistan Studies out of 100 = \"))\n",
    "Islamiat= int(input(\"Enter your marks of Islamiat out of 100 = \"))\n",
    "Total_marks= English+Urdu+Chemistry+Physics+Maths+Pakistan_Studies+Islamiat\n",
    "Percentage= (Total_marks/700)*100\n",
    "print(\"Your Total Marks are \" + str(Total_marks))\n",
    "print(\"Your Percentage is\" + \" \" + str(Percentage))\n",
    "if Percentage >= 90 and Percentage <=100:\n",
    "    print(\"Congratulations! You have secured Grade A\")\n",
    "elif Percentage <90 and Percentage >=80:\n",
    "    print(\"Congratulations! You have secured Grade B\")\n",
    "elif Percentage <80 and Percentage >=70:\n",
    "    print(\"Congratulations You have secured Grade C\")\n",
    "elif Percentage <70 and Percentage >=60:\n",
    "    print(\"Congratulations You have secured Grade D\")\n",
    "else:\n",
    "    print(\"You have failed in examinations\")\n",
    "    \n",
    "    "
   ]
  },
  {
   "cell_type": "code",
   "execution_count": null,
   "metadata": {},
   "outputs": [],
   "source": []
  }
 ],
 "metadata": {
  "kernelspec": {
   "display_name": "Python 3",
   "language": "python",
   "name": "python3"
  },
  "language_info": {
   "codemirror_mode": {
    "name": "ipython",
    "version": 3
   },
   "file_extension": ".py",
   "mimetype": "text/x-python",
   "name": "python",
   "nbconvert_exporter": "python",
   "pygments_lexer": "ipython3",
   "version": "3.7.4"
  }
 },
 "nbformat": 4,
 "nbformat_minor": 2
}
